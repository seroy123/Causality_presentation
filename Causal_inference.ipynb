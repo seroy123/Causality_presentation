{
 "cells": [
  {
   "cell_type": "markdown",
   "metadata": {},
   "source": [
    "# Loading Dependencies"
   ]
  },
  {
   "cell_type": "code",
   "execution_count": 7,
   "metadata": {
    "pycharm": {
     "is_executing": true,
     "name": "#%%\n"
    }
   },
   "outputs": [],
   "source": [
    "import random\n",
    "import numpy as np\n",
    "import matplotlib.pyplot as plt\n",
    "import pandas as pd\n",
    "import dowhy\n",
    "import os\n",
    "import feature_eng\n",
    "from get_datasets import reduce_memory_usage\n",
    "from tqdm import tqdm\n",
    "import econml\n",
    "from sklearn.tree import DecisionTreeRegressor\n",
    "from sklearn.linear_model import LinearRegression\n",
    "MAIN_DIR = os.getcwd()"
   ]
  },
  {
   "cell_type": "markdown",
   "metadata": {},
   "source": [
    "# Loading the data"
   ]
  },
  {
   "cell_type": "code",
   "execution_count": 8,
   "metadata": {
    "pycharm": {
     "is_executing": true
    }
   },
   "outputs": [],
   "source": [
    "sub_df = pd.read_csv(os.path.join(MAIN_DIR, 'Subjects.csv'))\n",
    "data = sub_df\n",
    "data['Sex']  = data['Sex'].replace({'M':1,'F':0})\n",
    "data = data.dropna()"
   ]
  },
  {
   "cell_type": "markdown",
   "metadata": {},
   "source": [
    "# Define the causal model"
   ]
  },
  {
   "cell_type": "code",
   "execution_count": 5,
   "metadata": {},
   "outputs": [
    {
     "data": {
      "image/png": "[encoded data removed]",
      "text/plain": [
       "<Figure size 576x432 with 1 Axes>"
      ]
     },
     "metadata": {},
     "output_type": "display_data"
    }
   ],
   "source": [
    "model = dowhy.CausalModel(\n",
    "    data=data,\n",
    "    treatment=\"YearsSinceDx\",\n",
    "    outcome=\"NFOGQ\",\n",
    "    common_causes=[\"Age\",'Sex'],\n",
    ")\n",
    "model.view_model()\n",
    "from IPython.display import Image, display\n",
    "estimand = model.identify_effect(proceed_when_unidentifiable=True)"
   ]
  },
  {
   "cell_type": "markdown",
   "metadata": {},
   "source": [
    "# Define the statistic estimand and estimate the affect"
   ]
  },
  {
   "cell_type": "code",
   "execution_count": 6,
   "metadata": {},
   "outputs": [
    {
     "name": "stderr",
     "output_type": "stream",
     "text": [
      "The final model has a nonzero intercept for at least one outcome; it will be subtracted, but consider fitting a model without an intercept if possible.\n",
      "The final model has a nonzero intercept for at least one outcome; it will be subtracted, but consider fitting a model without an intercept if possible.\n",
      "The final model has a nonzero intercept for at least one outcome; it will be subtracted, but consider fitting a model without an intercept if possible.\n",
      "The final model has a nonzero intercept for at least one outcome; it will be subtracted, but consider fitting a model without an intercept if possible.\n",
      "The final model has a nonzero intercept for at least one outcome; it will be subtracted, but consider fitting a model without an intercept if possible.\n",
      "The final model has a nonzero intercept for at least one outcome; it will be subtracted, but consider fitting a model without an intercept if possible.\n",
      "The final model has a nonzero intercept for at least one outcome; it will be subtracted, but consider fitting a model without an intercept if possible.\n",
      "The final model has a nonzero intercept for at least one outcome; it will be subtracted, but consider fitting a model without an intercept if possible.\n",
      "The final model has a nonzero intercept for at least one outcome; it will be subtracted, but consider fitting a model without an intercept if possible.\n",
      "The final model has a nonzero intercept for at least one outcome; it will be subtracted, but consider fitting a model without an intercept if possible.\n",
      "The final model has a nonzero intercept for at least one outcome; it will be subtracted, but consider fitting a model without an intercept if possible.\n"
     ]
    },
    {
     "name": "stdout",
     "output_type": "stream",
     "text": [
      "*** Causal Estimate ***\n",
      "\n",
      "## Identified estimand\n",
      "Estimand type: nonparametric-ate\n",
      "\n",
      "### Estimand : 1\n",
      "Estimand name: backdoor\n",
      "Estimand expression:\n",
      "       d                         \n",
      "───────────────(E[NFOGQ|Sex,Age])\n",
      "d[YearsSinceDx]                  \n",
      "Estimand assumption 1, Unconfoundedness: If U→{YearsSinceDx} and U→NFOGQ then P(NFOGQ|YearsSinceDx,Sex,Age,U) = P(NFOGQ|YearsSinceDx,Sex,Age)\n",
      "\n",
      "## Realized estimand\n",
      "b: NFOGQ~YearsSinceDx+Sex+Age | \n",
      "Target units: ate\n",
      "\n",
      "## Estimate\n",
      "Mean value: 0.11230902989652217\n",
      "Effect estimates: [0.11230903 0.11230903 0.11230903 0.11230903 0.11230903 0.11230903\n",
      " 0.11230903 0.11230903 0.11230903 0.11230903 0.11230903 0.11230903\n",
      " 0.11230903 0.11230903 0.11230903 0.11230903 0.11230903 0.11230903\n",
      " 0.11230903 0.11230903 0.11230903 0.11230903 0.11230903 0.11230903\n",
      " 0.11230903 0.11230903 0.11230903 0.11230903 0.11230903 0.11230903\n",
      " 0.11230903 0.11230903 0.11230903 0.11230903 0.11230903 0.11230903\n",
      " 0.11230903 0.11230903 0.11230903 0.11230903 0.11230903 0.11230903\n",
      " 0.11230903 0.11230903 0.11230903 0.11230903 0.11230903 0.11230903\n",
      " 0.11230903 0.11230903 0.11230903 0.11230903 0.11230903 0.11230903\n",
      " 0.11230903 0.11230903 0.11230903 0.11230903 0.11230903 0.11230903\n",
      " 0.11230903 0.11230903 0.11230903 0.11230903 0.11230903 0.11230903\n",
      " 0.11230903 0.11230903 0.11230903 0.11230903 0.11230903 0.11230903\n",
      " 0.11230903 0.11230903 0.11230903 0.11230903 0.11230903 0.11230903\n",
      " 0.11230903 0.11230903 0.11230903 0.11230903 0.11230903 0.11230903\n",
      " 0.11230903 0.11230903 0.11230903 0.11230903 0.11230903 0.11230903]\n",
      "\n",
      "We refute the estimate using the placebo treatment refuter. This refuter substitutes the treatment by an independent random variable and checks whether our estimate now goes to zero (it should!).\n"
     ]
    },
    {
     "name": "stderr",
     "output_type": "stream",
     "text": [
      "The final model has a nonzero intercept for at least one outcome; it will be subtracted, but consider fitting a model without an intercept if possible.\n",
      "The final model has a nonzero intercept for at least one outcome; it will be subtracted, but consider fitting a model without an intercept if possible.\n",
      "The final model has a nonzero intercept for at least one outcome; it will be subtracted, but consider fitting a model without an intercept if possible.\n",
      "The final model has a nonzero intercept for at least one outcome; it will be subtracted, but consider fitting a model without an intercept if possible.\n",
      "The final model has a nonzero intercept for at least one outcome; it will be subtracted, but consider fitting a model without an intercept if possible.\n",
      "The final model has a nonzero intercept for at least one outcome; it will be subtracted, but consider fitting a model without an intercept if possible.\n",
      "The final model has a nonzero intercept for at least one outcome; it will be subtracted, but consider fitting a model without an intercept if possible.\n",
      "The final model has a nonzero intercept for at least one outcome; it will be subtracted, but consider fitting a model without an intercept if possible.\n",
      "The final model has a nonzero intercept for at least one outcome; it will be subtracted, but consider fitting a model without an intercept if possible.\n",
      "The final model has a nonzero intercept for at least one outcome; it will be subtracted, but consider fitting a model without an intercept if possible.\n",
      "The final model has a nonzero intercept for at least one outcome; it will be subtracted, but consider fitting a model without an intercept if possible.\n",
      "The final model has a nonzero intercept for at least one outcome; it will be subtracted, but consider fitting a model without an intercept if possible.\n",
      "The final model has a nonzero intercept for at least one outcome; it will be subtracted, but consider fitting a model without an intercept if possible.\n",
      "The final model has a nonzero intercept for at least one outcome; it will be subtracted, but consider fitting a model without an intercept if possible.\n",
      "The final model has a nonzero intercept for at least one outcome; it will be subtracted, but consider fitting a model without an intercept if possible.\n",
      "The final model has a nonzero intercept for at least one outcome; it will be subtracted, but consider fitting a model without an intercept if possible.\n",
      "The final model has a nonzero intercept for at least one outcome; it will be subtracted, but consider fitting a model without an intercept if possible.\n",
      "The final model has a nonzero intercept for at least one outcome; it will be subtracted, but consider fitting a model without an intercept if possible.\n",
      "The final model has a nonzero intercept for at least one outcome; it will be subtracted, but consider fitting a model without an intercept if possible.\n",
      "The final model has a nonzero intercept for at least one outcome; it will be subtracted, but consider fitting a model without an intercept if possible.\n",
      "The final model has a nonzero intercept for at least one outcome; it will be subtracted, but consider fitting a model without an intercept if possible.\n",
      "The final model has a nonzero intercept for at least one outcome; it will be subtracted, but consider fitting a model without an intercept if possible.\n",
      "The final model has a nonzero intercept for at least one outcome; it will be subtracted, but consider fitting a model without an intercept if possible.\n",
      "The final model has a nonzero intercept for at least one outcome; it will be subtracted, but consider fitting a model without an intercept if possible.\n",
      "The final model has a nonzero intercept for at least one outcome; it will be subtracted, but consider fitting a model without an intercept if possible.\n",
      "The final model has a nonzero intercept for at least one outcome; it will be subtracted, but consider fitting a model without an intercept if possible.\n",
      "The final model has a nonzero intercept for at least one outcome; it will be subtracted, but consider fitting a model without an intercept if possible.\n",
      "The final model has a nonzero intercept for at least one outcome; it will be subtracted, but consider fitting a model without an intercept if possible.\n",
      "The final model has a nonzero intercept for at least one outcome; it will be subtracted, but consider fitting a model without an intercept if possible.\n",
      "The final model has a nonzero intercept for at least one outcome; it will be subtracted, but consider fitting a model without an intercept if possible.\n",
      "The final model has a nonzero intercept for at least one outcome; it will be subtracted, but consider fitting a model without an intercept if possible.\n",
      "The final model has a nonzero intercept for at least one outcome; it will be subtracted, but consider fitting a model without an intercept if possible.\n",
      "The final model has a nonzero intercept for at least one outcome; it will be subtracted, but consider fitting a model without an intercept if possible.\n",
      "The final model has a nonzero intercept for at least one outcome; it will be subtracted, but consider fitting a model without an intercept if possible.\n",
      "The final model has a nonzero intercept for at least one outcome; it will be subtracted, but consider fitting a model without an intercept if possible.\n",
      "The final model has a nonzero intercept for at least one outcome; it will be subtracted, but consider fitting a model without an intercept if possible.\n",
      "The final model has a nonzero intercept for at least one outcome; it will be subtracted, but consider fitting a model without an intercept if possible.\n",
      "The final model has a nonzero intercept for at least one outcome; it will be subtracted, but consider fitting a model without an intercept if possible.\n",
      "The final model has a nonzero intercept for at least one outcome; it will be subtracted, but consider fitting a model without an intercept if possible.\n",
      "The final model has a nonzero intercept for at least one outcome; it will be subtracted, but consider fitting a model without an intercept if possible.\n",
      "The final model has a nonzero intercept for at least one outcome; it will be subtracted, but consider fitting a model without an intercept if possible.\n",
      "The final model has a nonzero intercept for at least one outcome; it will be subtracted, but consider fitting a model without an intercept if possible.\n",
      "The final model has a nonzero intercept for at least one outcome; it will be subtracted, but consider fitting a model without an intercept if possible.\n",
      "The final model has a nonzero intercept for at least one outcome; it will be subtracted, but consider fitting a model without an intercept if possible.\n",
      "The final model has a nonzero intercept for at least one outcome; it will be subtracted, but consider fitting a model without an intercept if possible.\n"
     ]
    },
    {
     "name": "stdout",
     "output_type": "stream",
     "text": [
      "Refute: Use a Placebo Treatment\n",
      "Estimated effect:0.11230902989652217\n",
      "New effect:0.010625337281738416\n",
      "p value:0.44839541672463024\n",
      "\n",
      "Pretty strong ate. Taking meds reduces seizure intensity.\n",
      "Lets compare to normal regression\n"
     ]
    },
    {
     "name": "stderr",
     "output_type": "stream",
     "text": [
      "The final model has a nonzero intercept for at least one outcome; it will be subtracted, but consider fitting a model without an intercept if possible.\n",
      "The final model has a nonzero intercept for at least one outcome; it will be subtracted, but consider fitting a model without an intercept if possible.\n",
      "The final model has a nonzero intercept for at least one outcome; it will be subtracted, but consider fitting a model without an intercept if possible.\n",
      "The final model has a nonzero intercept for at least one outcome; it will be subtracted, but consider fitting a model without an intercept if possible.\n",
      "The final model has a nonzero intercept for at least one outcome; it will be subtracted, but consider fitting a model without an intercept if possible.\n",
      "The final model has a nonzero intercept for at least one outcome; it will be subtracted, but consider fitting a model without an intercept if possible.\n",
      "The final model has a nonzero intercept for at least one outcome; it will be subtracted, but consider fitting a model without an intercept if possible.\n",
      "The final model has a nonzero intercept for at least one outcome; it will be subtracted, but consider fitting a model without an intercept if possible.\n",
      "The final model has a nonzero intercept for at least one outcome; it will be subtracted, but consider fitting a model without an intercept if possible.\n",
      "The final model has a nonzero intercept for at least one outcome; it will be subtracted, but consider fitting a model without an intercept if possible.\n",
      "The final model has a nonzero intercept for at least one outcome; it will be subtracted, but consider fitting a model without an intercept if possible.\n",
      "The final model has a nonzero intercept for at least one outcome; it will be subtracted, but consider fitting a model without an intercept if possible.\n",
      "The final model has a nonzero intercept for at least one outcome; it will be subtracted, but consider fitting a model without an intercept if possible.\n",
      "The final model has a nonzero intercept for at least one outcome; it will be subtracted, but consider fitting a model without an intercept if possible.\n",
      "The final model has a nonzero intercept for at least one outcome; it will be subtracted, but consider fitting a model without an intercept if possible.\n"
     ]
    }
   ],
   "source": [
    "DML_estimate = model.estimate_effect(estimand,\n",
    "                                     method_name=\"backdoor.econml.dml.DML\",\n",
    "                                     method_params={\"init_params\": {\n",
    "                                         'model_y': LinearRegression(),\n",
    "                                         'model_t': LinearRegression(),\n",
    "                                         'model_final': LinearRegression()\n",
    "                                     },\n",
    "                                         \"fit_params\": {}\n",
    "                                     })\n",
    "print(DML_estimate)\n",
    "print('We refute the estimate using the placebo treatment refuter. This refuter substitutes the treatment by an independent random variable and checks whether our estimate now goes to zero (it should!).')\n",
    "refutation = model.refute_estimate(estimand, DML_estimate, method_name=\"placebo_treatment_refuter\",\n",
    "                                   placebo_type=\"permute\", num_simulations=70)\n",
    "print(refutation)\n",
    "\n",
    "print(f\"Pretty strong ate. Taking meds reduces seizure intensity.\\nLets compare to normal regression\")\n"
   ]
  },
  {
   "cell_type": "markdown",
   "metadata": {},
   "source": [
    "# Check normal regression to see if we imporoved"
   ]
  },
  {
   "cell_type": "code",
   "execution_count": 7,
   "metadata": {},
   "outputs": [
    {
     "name": "stderr",
     "output_type": "stream",
     "text": [
      "In a future version of pandas all arguments of concat except for the argument 'objs' will be keyword-only\n"
     ]
    },
    {
     "name": "stdout",
     "output_type": "stream",
     "text": [
      "Effect Size: const           15.778676\n",
      "Age             -0.044345\n",
      "YearsSinceDx     0.057465\n",
      "UPDRSIII_Off     0.096591\n",
      "UPDRSIII_On      0.059992\n",
      "Sex              0.284646\n",
      "dtype: float64\n"
     ]
    }
   ],
   "source": [
    "## Maybe check with normal regression scores to see if we did any good\n",
    "import statsmodels.api as sm\n",
    "\n",
    "variables = [\"Age\", \"YearsSinceDx\",'UPDRSIII_Off','UPDRSIII_On','Sex']\n",
    "X = data[variables]\n",
    "Y = data[\"NFOGQ\"]\n",
    "X = sm.add_constant(X)\n",
    "model = sm.OLS(Y, X)\n",
    "results = model.fit()\n",
    "# Get the effect size\n",
    "effect_size = results.params\n",
    "\n",
    "print(f\"Effect Size: {effect_size}\")"
   ]
  },
  {
   "cell_type": "markdown",
   "metadata": {},
   "source": [
    "## The causal affect is 0.112 and the statistic beta of the regression is only 0.05!"
   ]
  },
  {
   "cell_type": "markdown",
   "metadata": {},
   "source": [
    "## We Will now try a counterfactual analysis. Can we get P(NFOGQ|do(age > 60),Years_since_diagnosis)?"
   ]
  },
  {
   "cell_type": "code",
   "execution_count": 8,
   "metadata": {},
   "outputs": [
    {
     "name": "stderr",
     "output_type": "stream",
     "text": [
      "\n",
      "A value is trying to be set on a copy of a slice from a DataFrame.\n",
      "Try using .loc[row_indexer,col_indexer] = value instead\n",
      "\n",
      "See the caveats in the documentation: https://pandas.pydata.org/pandas-docs/stable/user_guide/indexing.html#returning-a-view-versus-a-copy\n"
     ]
    },
    {
     "data": {
      "image/png": "[encoded data removed]",
      "text/plain": [
       "<Figure size 432x288 with 1 Axes>"
      ]
     },
     "metadata": {},
     "output_type": "display_data"
    },
    {
     "name": "stderr",
     "output_type": "stream",
     "text": [
      "Fitting causal mechanism of node YearsSinceDx: 100%|██████████| 3/3 [00:00<00:00, 25.71it/s]\n"
     ]
    }
   ],
   "source": [
    "import networkx as nx\n",
    "import dowhy.gcm as gcm\n",
    "data['binary_age'] = data['Age'] > 60\n",
    "causal_model = gcm.InvertibleStructuralCausalModel(nx.DiGraph([('binary_age', 'NFOGQ'), ('YearsSinceDx', 'NFOGQ')]))\n",
    "gcm.auto.assign_causal_mechanisms(causal_model, data)\n",
    "\n",
    "gcm.util.plot(causal_model.graph)\n",
    "\n",
    "gcm.fit(causal_model, data.iloc[:-10])\n",
    "new_patients = data.iloc[-10:][data.iloc[-10:]['binary_age']==1.0]\n",
    "picked_columns = ['binary_age','YearsSinceDx','NFOGQ']\n",
    "new_patients = new_patients[picked_columns]\n",
    "counterfactual_data2 = gcm.counterfactual_samples(causal_model,\n",
    "                                                  {'binary_age': lambda x: 0.0},\n",
    "                                                  observed_data=new_patients)\n"
   ]
  },
  {
   "cell_type": "code",
   "execution_count": 9,
   "metadata": {},
   "outputs": [
    {
     "data": {
      "image/png": "[encoded data removed]",
      "text/plain": [
       "<Figure size 432x288 with 1 Axes>"
      ]
     },
     "metadata": {
      "needs_background": "light"
     },
     "output_type": "display_data"
    }
   ],
   "source": [
    "import matplotlib.pyplot as plt\n",
    "\n",
    "df_plot2 = pd.DataFrame()\n",
    "df_plot2['NFOGQ'] = new_patients['NFOGQ']\n",
    "df_plot2['Counterfactual NFOGQ (age > 60)'] = counterfactual_data2['NFOGQ'].to_numpy()\n",
    "\n",
    "df_plot2.plot.bar(title=\"Counterfactual outputs\")\n",
    "plt.ylabel('NFOGQ')\n",
    "# plt.xlabel(list(new_patients.index))\n",
    "plt.legend()\n",
    "plt.show()"
   ]
  },
  {
   "cell_type": "markdown",
   "metadata": {},
   "source": [
    "## We will now try Causal Discovery"
   ]
  },
  {
   "cell_type": "code",
   "execution_count": 10,
   "metadata": {},
   "outputs": [
    {
     "name": "stderr",
     "output_type": "stream",
     "text": [
      "Detecting 1 CUDA device(s).\n"
     ]
    },
    {
     "ename": "NameError",
     "evalue": "name 'output' is not defined",
     "output_type": "error",
     "traceback": [
      "\u001B[1;31m---------------------------------------------------------------------------\u001B[0m",
      "\u001B[1;31mNameError\u001B[0m                                 Traceback (most recent call last)",
      "Input \u001B[1;32mIn [10]\u001B[0m, in \u001B[0;36m<cell line: 9>\u001B[1;34m()\u001B[0m\n\u001B[0;32m      7\u001B[0m plt\u001B[38;5;241m.\u001B[39mtitle(\u001B[38;5;124m'\u001B[39m\u001B[38;5;124mCausal Graph Discovery using SAM\u001B[39m\u001B[38;5;124m'\u001B[39m)\n\u001B[0;32m      8\u001B[0m \u001B[38;5;66;03m# output = obj.predict(data)\u001B[39;00m\n\u001B[1;32m----> 9\u001B[0m nx\u001B[38;5;241m.\u001B[39mdraw_networkx(\u001B[43moutput\u001B[49m, font_size\u001B[38;5;241m=\u001B[39m\u001B[38;5;241m15\u001B[39m)\n\u001B[0;32m     10\u001B[0m plt\u001B[38;5;241m.\u001B[39mshow()\n",
      "\u001B[1;31mNameError\u001B[0m: name 'output' is not defined"
     ]
    },
    {
     "data": {
      "image/png": "[encoded data removed]",
      "text/plain": [
       "<Figure size 1080x1080 with 1 Axes>"
      ]
     },
     "metadata": {
      "needs_background": "light"
     },
     "output_type": "display_data"
    }
   ],
   "source": [
    "import networkx as nx\n",
    "import cdt\n",
    "from cdt.causality.graph import CGNN, SAM\n",
    "cdt.SETTINGS.NJOBS = 3\n",
    "obj = SAM()\n",
    "plt.figure(figsize=(15,15))\n",
    "plt.title('Causal Graph Discovery using SAM')\n",
    "# output = obj.predict(data)\n",
    "nx.draw_networkx(output, font_size=15)\n",
    "plt.show()\n",
    "\n",
    "# obj = CGNN(nruns=12)\n",
    "# plt.figure()\n",
    "# plt.title('Causal Graph discovery using CGNN')\n",
    "# output = obj.predict(data_for_discovery)\n",
    "# nx.draw_networkx(output, font_size=8)\n",
    "# plt.show()\n"
   ]
  },
  {
   "cell_type": "code",
   "execution_count": null,
   "metadata": {},
   "outputs": [],
   "source": []
  }
 ],
 "metadata": {
  "kernelspec": {
   "display_name": "Python 3 (ipykernel)",
   "language": "python",
   "name": "python3"
  },
  "language_info": {
   "codemirror_mode": {
    "name": "ipython",
    "version": 3
   },
   "file_extension": ".py",
   "mimetype": "text/x-python",
   "name": "python",
   "nbconvert_exporter": "python",
   "pygments_lexer": "ipython3",
   "version": "3.8.3"
  }
 },
 "nbformat": 4,
 "nbformat_minor": 1
}