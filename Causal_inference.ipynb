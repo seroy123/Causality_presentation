{
 "cells": [
  {
   "cell_type": "markdown",
   "metadata": {},
   "source": [
    "# Loading Dependencies"
   ]
  },
  {
   "cell_type": "code",
   "execution_count": 13,
   "metadata": {
    "pycharm": {
     "name": "#%%\n"
    }
   },
   "outputs": [],
   "source": [
    "import random\n",
    "import numpy as np\n",
    "import matplotlib.pyplot as plt\n",
    "import pandas as pd\n",
    "import dowhy\n",
    "import os\n",
    "import feature_eng\n",
    "from get_datasets import reduce_memory_usage\n",
    "from tqdm import tqdm\n",
    "import econml\n",
    "from sklearn.tree import DecisionTreeRegressor\n",
    "from sklearn.linear_model import LinearRegression\n",
    "\n",
    "MAIN_DIR = os.getcwd()\n",
    "\n",
    "FEATURES = [\"AccV\", \"AccML\", \"AccAP\"]\n",
    "TARGETS = [\"StartHesitation\", \"Turn\", \"Walking\"]\n",
    "\n",
    "new_features = ['AccA', 'RelTime', 'AccML_f1', 'AccML_f2', 'AccAP_f1', 'AccAP_f2', 'AccV_f1', 'AccV_f2']\n",
    "# new_features = ['AccA', 'AccML_f1', 'AccML_f2', 'AccAP_f1', 'AccAP_f2', 'AccV_f1', 'AccV_f2']\n",
    "acc_features = ['AccV', 'AccML', 'AccAP']\n",
    "\n",
    "FEATURES = acc_features + new_features\n",
    "\n",
    "\n",
    "def add_features(query_datatype):\n",
    "    for acc_feature in acc_features:\n",
    "        query_datatype[acc_feature] /= 9.8\n",
    "    query_datatype = feature_eng.generate_features(query_datatype, new_features, True,'train')\n",
    "    return query_datatype\n",
    "\n",
    "\n",
    "def read_data(\n",
    "        dataset,\n",
    "        datatype,\n",
    "        targets,\n",
    "        subject_ids=None):\n",
    "    metadata = pd.read_csv(os.path.join(MAIN_DIR , (dataset + \"_metadata.csv\")))\n",
    "    sub_metadata = pd.read_csv(os.path.join(MAIN_DIR , \"Subjects.csv\"))\n",
    "    metadata = metadata.merge(sub_metadata, on='Subject')\n",
    "    if subject_ids is not None:\n",
    "        metadata = metadata.loc[metadata['Subject'].isin(subject_ids)]\n",
    "        metadata = metadata\n",
    "    DATA_ROOT = MAIN_DIR + '/'+datatype + \"/\" + dataset\n",
    "\n",
    "    counter = 0\n",
    "    df_res = pd.DataFrame()\n",
    "    for root, dirs, files in os.walk(DATA_ROOT):\n",
    "        for name in tqdm(files[:250]):\n",
    "            if name[:-4] in metadata['Id'].values:\n",
    "                counter += 1\n",
    "                f = os.path.join(root, name)\n",
    "                query_datatype = pd.read_csv(f)\n",
    "                query_datatype = add_features(query_datatype)\n",
    "                # TODO: change to zeros, but come up with values for time (it's fine if events are all zeros)\n",
    "                query_datatype = pd.concat(\n",
    "                    [pd.DataFrame(np.zeros((128, len(query_datatype.columns))), columns=query_datatype.columns),\n",
    "                     query_datatype], ignore_index=True)\n",
    "                query_datatype[\"file\"] = name.replace(\".csv\", \"\")\n",
    "                df_res = pd.concat([df_res, query_datatype])\n",
    "\n",
    "    df_res = metadata.merge(df_res,\n",
    "                            how='inner',\n",
    "                            left_on='Id',\n",
    "                            right_on='file')\n",
    "\n",
    "    df_res = df_res.drop([\"file\"], axis=1)\n",
    "    df_res['False_Class'] = (df_res[targets].sum(axis=1) == 0) * 1\n",
    "    df_res = reduce_memory_usage(df_res)\n",
    "    return df_res"
   ]
  },
  {
   "cell_type": "markdown",
   "metadata": {},
   "source": [
    "# Loading the data"
   ]
  },
  {
   "cell_type": "code",
   "execution_count": 14,
   "metadata": {},
   "outputs": [],
   "source": [
    "# TARGETS = [\"StartHesitation\", \"Turn\", \"Walking\"]  # define targets without the false class\n",
    "# sess_df = pd.read_csv(os.path.join(MAIN_DIR, 'tdcsfog_metadata.csv'))\n",
    "sub_df = pd.read_csv(os.path.join(MAIN_DIR, 'Subjects.csv'))\n",
    "# unique_users = sess_df['Subject'].unique()\n",
    "# train_users= unique_users\n",
    "# data = read_data(\n",
    "# dataset = \"tdcsfog\",\n",
    "# datatype = \"train\",\n",
    "# targets = TARGETS,\n",
    "# subject_ids = train_users\n",
    "#     )\n",
    "# mapping = {'on': 1.0, 'off': 0.0}\n",
    "# data['Medication'] = data['Medication'].map(mapping).astype(float)\n",
    "# data = data.drop('Visit_y',axis=1).drop('Time', axis=1)\n",
    "# averages = data[data['False_Class'] == 0].groupby('Id').mean()\n",
    "# averages_fc = data[data['False_Class'] == 1].groupby('Id').mean().dropna()\n",
    "# data = pd.concat((averages_fc, averages)).dropna()\n",
    "# print(data.columns)\n",
    "data = sub_df\n",
    "data['Sex']  = data['Sex'].replace({'M':1,'F':0})\n",
    "data = data.dropna()"
   ]
  },
  {
   "cell_type": "markdown",
   "metadata": {},
   "source": [
    "# Define the causal model"
   ]
  },
  {
   "cell_type": "code",
   "execution_count": 15,
   "metadata": {},
   "outputs": [
    {
     "data": {
      "text/plain": "<Figure size 576x432 with 1 Axes>",
      "image/png": "[encoded data removed]"
     },
     "metadata": {},
     "output_type": "display_data"
    }
   ],
   "source": [
    "model = dowhy.CausalModel(\n",
    "    data=data,\n",
    "    treatment=\"YearsSinceDx\",\n",
    "    outcome=\"NFOGQ\",\n",
    "    common_causes=[\"Age\",'Sex'],\n",
    ")\n",
    "model.view_model()\n",
    "from IPython.display import Image, display\n",
    "estimand = model.identify_effect(proceed_when_unidentifiable=True)"
   ]
  },
  {
   "cell_type": "markdown",
   "metadata": {},
   "source": [
    "# Define the statistic estimand and estimate the affect"
   ]
  },
  {
   "cell_type": "code",
   "execution_count": 16,
   "metadata": {},
   "outputs": [
    {
     "name": "stderr",
     "output_type": "stream",
     "text": [
      "The final model has a nonzero intercept for at least one outcome; it will be subtracted, but consider fitting a model without an intercept if possible.\n",
      "The final model has a nonzero intercept for at least one outcome; it will be subtracted, but consider fitting a model without an intercept if possible.\n",
      "The final model has a nonzero intercept for at least one outcome; it will be subtracted, but consider fitting a model without an intercept if possible.\n",
      "The final model has a nonzero intercept for at least one outcome; it will be subtracted, but consider fitting a model without an intercept if possible.\n",
      "The final model has a nonzero intercept for at least one outcome; it will be subtracted, but consider fitting a model without an intercept if possible.\n",
      "The final model has a nonzero intercept for at least one outcome; it will be subtracted, but consider fitting a model without an intercept if possible.\n",
      "The final model has a nonzero intercept for at least one outcome; it will be subtracted, but consider fitting a model without an intercept if possible.\n",
      "The final model has a nonzero intercept for at least one outcome; it will be subtracted, but consider fitting a model without an intercept if possible.\n",
      "The final model has a nonzero intercept for at least one outcome; it will be subtracted, but consider fitting a model without an intercept if possible.\n",
      "The final model has a nonzero intercept for at least one outcome; it will be subtracted, but consider fitting a model without an intercept if possible.\n",
      "The final model has a nonzero intercept for at least one outcome; it will be subtracted, but consider fitting a model without an intercept if possible.\n",
      "The final model has a nonzero intercept for at least one outcome; it will be subtracted, but consider fitting a model without an intercept if possible.\n",
      "The final model has a nonzero intercept for at least one outcome; it will be subtracted, but consider fitting a model without an intercept if possible.\n",
      "The final model has a nonzero intercept for at least one outcome; it will be subtracted, but consider fitting a model without an intercept if possible.\n",
      "The final model has a nonzero intercept for at least one outcome; it will be subtracted, but consider fitting a model without an intercept if possible.\n"
     ]
    },
    {
     "name": "stdout",
     "output_type": "stream",
     "text": [
      "*** Causal Estimate ***\n",
      "\n",
      "## Identified estimand\n",
      "Estimand type: nonparametric-ate\n",
      "\n",
      "### Estimand : 1\n",
      "Estimand name: backdoor\n",
      "Estimand expression:\n",
      "       d                         \n",
      "───────────────(E[NFOGQ|Age,Sex])\n",
      "d[YearsSinceDx]                  \n",
      "Estimand assumption 1, Unconfoundedness: If U→{YearsSinceDx} and U→NFOGQ then P(NFOGQ|YearsSinceDx,Age,Sex,U) = P(NFOGQ|YearsSinceDx,Age,Sex)\n",
      "\n",
      "## Realized estimand\n",
      "b: NFOGQ~YearsSinceDx+Age+Sex | \n",
      "Target units: ate\n",
      "\n",
      "## Estimate\n",
      "Mean value: 0.06699605273278812\n",
      "Effect estimates: [0.06699605 0.06699605 0.06699605 0.06699605 0.06699605 0.06699605\n",
      " 0.06699605 0.06699605 0.06699605 0.06699605 0.06699605 0.06699605\n",
      " 0.06699605 0.06699605 0.06699605 0.06699605 0.06699605 0.06699605\n",
      " 0.06699605 0.06699605 0.06699605 0.06699605 0.06699605 0.06699605\n",
      " 0.06699605 0.06699605 0.06699605 0.06699605 0.06699605 0.06699605\n",
      " 0.06699605 0.06699605 0.06699605 0.06699605 0.06699605 0.06699605\n",
      " 0.06699605 0.06699605 0.06699605 0.06699605 0.06699605 0.06699605\n",
      " 0.06699605 0.06699605 0.06699605 0.06699605 0.06699605 0.06699605\n",
      " 0.06699605 0.06699605 0.06699605 0.06699605 0.06699605 0.06699605\n",
      " 0.06699605 0.06699605 0.06699605 0.06699605 0.06699605 0.06699605\n",
      " 0.06699605 0.06699605 0.06699605 0.06699605 0.06699605 0.06699605\n",
      " 0.06699605 0.06699605 0.06699605 0.06699605 0.06699605 0.06699605\n",
      " 0.06699605 0.06699605 0.06699605 0.06699605 0.06699605 0.06699605\n",
      " 0.06699605 0.06699605 0.06699605 0.06699605 0.06699605 0.06699605\n",
      " 0.06699605 0.06699605 0.06699605 0.06699605 0.06699605 0.06699605]\n",
      "\n",
      "We refute the estimate using the placebo treatment refuter. This refuter substitutes the treatment by an independent random variable and checks whether our estimate now goes to zero (it should!).\n"
     ]
    },
    {
     "name": "stderr",
     "output_type": "stream",
     "text": [
      "The final model has a nonzero intercept for at least one outcome; it will be subtracted, but consider fitting a model without an intercept if possible.\n",
      "The final model has a nonzero intercept for at least one outcome; it will be subtracted, but consider fitting a model without an intercept if possible.\n",
      "The final model has a nonzero intercept for at least one outcome; it will be subtracted, but consider fitting a model without an intercept if possible.\n",
      "The final model has a nonzero intercept for at least one outcome; it will be subtracted, but consider fitting a model without an intercept if possible.\n",
      "The final model has a nonzero intercept for at least one outcome; it will be subtracted, but consider fitting a model without an intercept if possible.\n",
      "The final model has a nonzero intercept for at least one outcome; it will be subtracted, but consider fitting a model without an intercept if possible.\n",
      "The final model has a nonzero intercept for at least one outcome; it will be subtracted, but consider fitting a model without an intercept if possible.\n",
      "The final model has a nonzero intercept for at least one outcome; it will be subtracted, but consider fitting a model without an intercept if possible.\n",
      "The final model has a nonzero intercept for at least one outcome; it will be subtracted, but consider fitting a model without an intercept if possible.\n",
      "The final model has a nonzero intercept for at least one outcome; it will be subtracted, but consider fitting a model without an intercept if possible.\n",
      "The final model has a nonzero intercept for at least one outcome; it will be subtracted, but consider fitting a model without an intercept if possible.\n",
      "The final model has a nonzero intercept for at least one outcome; it will be subtracted, but consider fitting a model without an intercept if possible.\n",
      "The final model has a nonzero intercept for at least one outcome; it will be subtracted, but consider fitting a model without an intercept if possible.\n",
      "The final model has a nonzero intercept for at least one outcome; it will be subtracted, but consider fitting a model without an intercept if possible.\n",
      "The final model has a nonzero intercept for at least one outcome; it will be subtracted, but consider fitting a model without an intercept if possible.\n",
      "The final model has a nonzero intercept for at least one outcome; it will be subtracted, but consider fitting a model without an intercept if possible.\n",
      "The final model has a nonzero intercept for at least one outcome; it will be subtracted, but consider fitting a model without an intercept if possible.\n",
      "The final model has a nonzero intercept for at least one outcome; it will be subtracted, but consider fitting a model without an intercept if possible.\n",
      "The final model has a nonzero intercept for at least one outcome; it will be subtracted, but consider fitting a model without an intercept if possible.\n",
      "The final model has a nonzero intercept for at least one outcome; it will be subtracted, but consider fitting a model without an intercept if possible.\n",
      "The final model has a nonzero intercept for at least one outcome; it will be subtracted, but consider fitting a model without an intercept if possible.\n",
      "The final model has a nonzero intercept for at least one outcome; it will be subtracted, but consider fitting a model without an intercept if possible.\n",
      "The final model has a nonzero intercept for at least one outcome; it will be subtracted, but consider fitting a model without an intercept if possible.\n",
      "The final model has a nonzero intercept for at least one outcome; it will be subtracted, but consider fitting a model without an intercept if possible.\n",
      "The final model has a nonzero intercept for at least one outcome; it will be subtracted, but consider fitting a model without an intercept if possible.\n",
      "The final model has a nonzero intercept for at least one outcome; it will be subtracted, but consider fitting a model without an intercept if possible.\n",
      "The final model has a nonzero intercept for at least one outcome; it will be subtracted, but consider fitting a model without an intercept if possible.\n",
      "The final model has a nonzero intercept for at least one outcome; it will be subtracted, but consider fitting a model without an intercept if possible.\n",
      "The final model has a nonzero intercept for at least one outcome; it will be subtracted, but consider fitting a model without an intercept if possible.\n",
      "The final model has a nonzero intercept for at least one outcome; it will be subtracted, but consider fitting a model without an intercept if possible.\n",
      "The final model has a nonzero intercept for at least one outcome; it will be subtracted, but consider fitting a model without an intercept if possible.\n",
      "The final model has a nonzero intercept for at least one outcome; it will be subtracted, but consider fitting a model without an intercept if possible.\n",
      "The final model has a nonzero intercept for at least one outcome; it will be subtracted, but consider fitting a model without an intercept if possible.\n",
      "The final model has a nonzero intercept for at least one outcome; it will be subtracted, but consider fitting a model without an intercept if possible.\n",
      "The final model has a nonzero intercept for at least one outcome; it will be subtracted, but consider fitting a model without an intercept if possible.\n",
      "The final model has a nonzero intercept for at least one outcome; it will be subtracted, but consider fitting a model without an intercept if possible.\n",
      "The final model has a nonzero intercept for at least one outcome; it will be subtracted, but consider fitting a model without an intercept if possible.\n",
      "The final model has a nonzero intercept for at least one outcome; it will be subtracted, but consider fitting a model without an intercept if possible.\n",
      "The final model has a nonzero intercept for at least one outcome; it will be subtracted, but consider fitting a model without an intercept if possible.\n",
      "The final model has a nonzero intercept for at least one outcome; it will be subtracted, but consider fitting a model without an intercept if possible.\n",
      "The final model has a nonzero intercept for at least one outcome; it will be subtracted, but consider fitting a model without an intercept if possible.\n",
      "The final model has a nonzero intercept for at least one outcome; it will be subtracted, but consider fitting a model without an intercept if possible.\n",
      "The final model has a nonzero intercept for at least one outcome; it will be subtracted, but consider fitting a model without an intercept if possible.\n",
      "The final model has a nonzero intercept for at least one outcome; it will be subtracted, but consider fitting a model without an intercept if possible.\n",
      "The final model has a nonzero intercept for at least one outcome; it will be subtracted, but consider fitting a model without an intercept if possible.\n",
      "The final model has a nonzero intercept for at least one outcome; it will be subtracted, but consider fitting a model without an intercept if possible.\n"
     ]
    },
    {
     "name": "stdout",
     "output_type": "stream",
     "text": [
      "Refute: Use a Placebo Treatment\n",
      "Estimated effect:0.06699605273278812\n",
      "New effect:-0.002635368183576983\n",
      "p value:0.48650584495608773\n",
      "\n",
      "Pretty strong ate. Taking meds reduces seizure intensity.\n",
      "Lets compare to normal regression\n"
     ]
    },
    {
     "name": "stderr",
     "output_type": "stream",
     "text": [
      "The final model has a nonzero intercept for at least one outcome; it will be subtracted, but consider fitting a model without an intercept if possible.\n",
      "The final model has a nonzero intercept for at least one outcome; it will be subtracted, but consider fitting a model without an intercept if possible.\n",
      "The final model has a nonzero intercept for at least one outcome; it will be subtracted, but consider fitting a model without an intercept if possible.\n",
      "The final model has a nonzero intercept for at least one outcome; it will be subtracted, but consider fitting a model without an intercept if possible.\n",
      "The final model has a nonzero intercept for at least one outcome; it will be subtracted, but consider fitting a model without an intercept if possible.\n",
      "The final model has a nonzero intercept for at least one outcome; it will be subtracted, but consider fitting a model without an intercept if possible.\n",
      "The final model has a nonzero intercept for at least one outcome; it will be subtracted, but consider fitting a model without an intercept if possible.\n",
      "The final model has a nonzero intercept for at least one outcome; it will be subtracted, but consider fitting a model without an intercept if possible.\n",
      "The final model has a nonzero intercept for at least one outcome; it will be subtracted, but consider fitting a model without an intercept if possible.\n",
      "The final model has a nonzero intercept for at least one outcome; it will be subtracted, but consider fitting a model without an intercept if possible.\n"
     ]
    }
   ],
   "source": [
    "DML_estimate = model.estimate_effect(estimand,\n",
    "                                     method_name=\"backdoor.econml.dml.DML\",\n",
    "                                     method_params={\"init_params\": {\n",
    "                                         'model_y': LinearRegression(),\n",
    "                                         'model_t': LinearRegression(),\n",
    "                                         'model_final': LinearRegression()\n",
    "                                     },\n",
    "                                         \"fit_params\": {}\n",
    "                                     })\n",
    "print(DML_estimate)\n",
    "print('We refute the estimate using the placebo treatment refuter. This refuter substitutes the treatment by an independent random variable and checks whether our estimate now goes to zero (it should!).')\n",
    "refutation = model.refute_estimate(estimand, DML_estimate, method_name=\"placebo_treatment_refuter\",\n",
    "                                   placebo_type=\"permute\", num_simulations=70)\n",
    "print(refutation)\n",
    "\n",
    "print(f\"Pretty strong ate. Taking meds reduces seizure intensity.\\nLets compare to normal regression\")\n"
   ]
  },
  {
   "cell_type": "markdown",
   "metadata": {},
   "source": [
    "# Check normal regression to see if we imporoved"
   ]
  },
  {
   "cell_type": "code",
   "execution_count": 17,
   "metadata": {},
   "outputs": [
    {
     "name": "stdout",
     "output_type": "stream",
     "text": [
      "Effect Size: const           15.778676\n",
      "Age             -0.044345\n",
      "YearsSinceDx     0.057465\n",
      "UPDRSIII_Off     0.096591\n",
      "UPDRSIII_On      0.059992\n",
      "Sex              0.284646\n",
      "dtype: float64\n"
     ]
    },
    {
     "name": "stderr",
     "output_type": "stream",
     "text": [
      "In a future version of pandas all arguments of concat except for the argument 'objs' will be keyword-only\n"
     ]
    }
   ],
   "source": [
    "## Maybe check with normal regression scores to see if we did any good\n",
    "import statsmodels.api as sm\n",
    "\n",
    "variables = [\"Age\", \"YearsSinceDx\",'UPDRSIII_Off','UPDRSIII_On','Sex']\n",
    "X = data[variables]\n",
    "Y = data[\"NFOGQ\"]\n",
    "X = sm.add_constant(X)\n",
    "model = sm.OLS(Y, X)\n",
    "results = model.fit()\n",
    "# Get the effect size\n",
    "effect_size = results.params\n",
    "\n",
    "print(f\"Effect Size: {effect_size}\")"
   ]
  },
  {
   "cell_type": "markdown",
   "metadata": {},
   "source": [
    "## The causal affect is 0.135 and the statistic beta of the regression is only 0.05!"
   ]
  },
  {
   "cell_type": "markdown",
   "metadata": {},
   "source": [
    "## We Will now try a counterfactual analysis. Can we get P(NFOGQ|do(age > 60),Years_since_diagnosis)?"
   ]
  },
  {
   "cell_type": "code",
   "execution_count": 18,
   "metadata": {},
   "outputs": [
    {
     "name": "stderr",
     "output_type": "stream",
     "text": [
      "\n",
      "A value is trying to be set on a copy of a slice from a DataFrame.\n",
      "Try using .loc[row_indexer,col_indexer] = value instead\n",
      "\n",
      "See the caveats in the documentation: https://pandas.pydata.org/pandas-docs/stable/user_guide/indexing.html#returning-a-view-versus-a-copy\n"
     ]
    },
    {
     "data": {
      "text/plain": "<Figure size 432x288 with 1 Axes>",
      "image/png": "[encoded data removed]"
     },
     "metadata": {},
     "output_type": "display_data"
    },
    {
     "name": "stderr",
     "output_type": "stream",
     "text": [
      "Fitting causal mechanism of node YearsSinceDx: 100%|██████████| 3/3 [00:00<00:00, 454.75it/s]\n"
     ]
    },
    {
     "ename": "ValueError",
     "evalue": "Input contains NaN, infinity or a value too large for dtype('float64').",
     "output_type": "error",
     "traceback": [
      "\u001B[1;31m---------------------------------------------------------------------------\u001B[0m",
      "\u001B[1;31mValueError\u001B[0m                                Traceback (most recent call last)",
      "Input \u001B[1;32mIn [18]\u001B[0m, in \u001B[0;36m<cell line: 13>\u001B[1;34m()\u001B[0m\n\u001B[0;32m     11\u001B[0m picked_columns \u001B[38;5;241m=\u001B[39m [\u001B[38;5;124m'\u001B[39m\u001B[38;5;124mbinary_age\u001B[39m\u001B[38;5;124m'\u001B[39m,\u001B[38;5;124m'\u001B[39m\u001B[38;5;124mYearsSinceDx\u001B[39m\u001B[38;5;124m'\u001B[39m,\u001B[38;5;124m'\u001B[39m\u001B[38;5;124mNFOGQ\u001B[39m\u001B[38;5;124m'\u001B[39m]\n\u001B[0;32m     12\u001B[0m new_patients \u001B[38;5;241m=\u001B[39m new_patients[picked_columns]\n\u001B[1;32m---> 13\u001B[0m counterfactual_data2 \u001B[38;5;241m=\u001B[39m \u001B[43mgcm\u001B[49m\u001B[38;5;241;43m.\u001B[39;49m\u001B[43mcounterfactual_samples\u001B[49m\u001B[43m(\u001B[49m\u001B[43mcausal_model\u001B[49m\u001B[43m,\u001B[49m\n\u001B[0;32m     14\u001B[0m \u001B[43m                                                  \u001B[49m\u001B[43m{\u001B[49m\u001B[38;5;124;43m'\u001B[39;49m\u001B[38;5;124;43mbinary_age\u001B[39;49m\u001B[38;5;124;43m'\u001B[39;49m\u001B[43m:\u001B[49m\u001B[43m \u001B[49m\u001B[38;5;28;43;01mlambda\u001B[39;49;00m\u001B[43m \u001B[49m\u001B[43mx\u001B[49m\u001B[43m:\u001B[49m\u001B[43m \u001B[49m\u001B[38;5;241;43m0.0\u001B[39;49m\u001B[43m}\u001B[49m\u001B[43m,\u001B[49m\n\u001B[0;32m     15\u001B[0m \u001B[43m                                                  \u001B[49m\u001B[43mobserved_data\u001B[49m\u001B[38;5;241;43m=\u001B[39;49m\u001B[43mnew_patients\u001B[49m\u001B[43m)\u001B[49m\n",
      "File \u001B[1;32m~\\anaconda3\\lib\\site-packages\\dowhy\\gcm\\whatif.py:131\u001B[0m, in \u001B[0;36mcounterfactual_samples\u001B[1;34m(causal_model, interventions, observed_data, noise_data)\u001B[0m\n\u001B[0;32m    128\u001B[0m     noise_data \u001B[38;5;241m=\u001B[39m compute_noise_from_data(causal_model, observed_data)\n\u001B[0;32m    130\u001B[0m \u001B[38;5;66;03m# Action + Prediction: Propagate the intervention downstream using recovered noise values.\u001B[39;00m\n\u001B[1;32m--> 131\u001B[0m \u001B[38;5;28;01mreturn\u001B[39;00m \u001B[43m_counterfactual_samples\u001B[49m\u001B[43m(\u001B[49m\u001B[43mcausal_model\u001B[49m\u001B[43m,\u001B[49m\u001B[43m \u001B[49m\u001B[43minterventions\u001B[49m\u001B[43m,\u001B[49m\u001B[43m \u001B[49m\u001B[43mnoise_data\u001B[49m\u001B[43m)\u001B[49m\n",
      "File \u001B[1;32m~\\anaconda3\\lib\\site-packages\\dowhy\\gcm\\whatif.py:145\u001B[0m, in \u001B[0;36m_counterfactual_samples\u001B[1;34m(scm, interventions, noise_data)\u001B[0m\n\u001B[0;32m    143\u001B[0m         node_data \u001B[38;5;241m=\u001B[39m noise_data[node]\u001B[38;5;241m.\u001B[39mto_numpy()\n\u001B[0;32m    144\u001B[0m     \u001B[38;5;28;01melse\u001B[39;00m:\n\u001B[1;32m--> 145\u001B[0m         node_data \u001B[38;5;241m=\u001B[39m \u001B[43mscm\u001B[49m\u001B[38;5;241;43m.\u001B[39;49m\u001B[43mcausal_mechanism\u001B[49m\u001B[43m(\u001B[49m\u001B[43mnode\u001B[49m\u001B[43m)\u001B[49m\u001B[38;5;241;43m.\u001B[39;49m\u001B[43mevaluate\u001B[49m\u001B[43m(\u001B[49m\u001B[43m_parent_samples_of\u001B[49m\u001B[43m(\u001B[49m\u001B[43mnode\u001B[49m\u001B[43m,\u001B[49m\u001B[43m \u001B[49m\u001B[43mscm\u001B[49m\u001B[43m,\u001B[49m\u001B[43m \u001B[49m\u001B[43msamples\u001B[49m\u001B[43m)\u001B[49m\u001B[43m,\u001B[49m\n\u001B[0;32m    146\u001B[0m \u001B[43m                                                        \u001B[49m\u001B[43mnoise_data\u001B[49m\u001B[43m[\u001B[49m\u001B[43mnode\u001B[49m\u001B[43m]\u001B[49m\u001B[38;5;241;43m.\u001B[39;49m\u001B[43mto_numpy\u001B[49m\u001B[43m(\u001B[49m\u001B[43m)\u001B[49m\u001B[43m)\u001B[49m\n\u001B[0;32m    148\u001B[0m     samples[node] \u001B[38;5;241m=\u001B[39m _evaluate_intervention(node, interventions, node_data\u001B[38;5;241m.\u001B[39mreshape(\u001B[38;5;241m-\u001B[39m\u001B[38;5;241m1\u001B[39m))\n\u001B[0;32m    150\u001B[0m \u001B[38;5;28;01mreturn\u001B[39;00m samples\n",
      "File \u001B[1;32m~\\anaconda3\\lib\\site-packages\\dowhy\\gcm\\fcms.py:141\u001B[0m, in \u001B[0;36mPostNonlinearModel.evaluate\u001B[1;34m(self, parent_samples, noise_samples)\u001B[0m\n\u001B[0;32m    130\u001B[0m \u001B[38;5;124;03m\"\"\"Evaluates the post non-linear model given samples (X, N). This is done by:\u001B[39;00m\n\u001B[0;32m    131\u001B[0m \n\u001B[0;32m    132\u001B[0m \u001B[38;5;124;03m    1. Evaluate f(X)\u001B[39;00m\n\u001B[1;32m   (...)\u001B[0m\n\u001B[0;32m    138\u001B[0m \u001B[38;5;124;03m:return: The Y values based on the given samples.\u001B[39;00m\n\u001B[0;32m    139\u001B[0m \u001B[38;5;124;03m\"\"\"\u001B[39;00m\n\u001B[0;32m    140\u001B[0m parent_samples, noise_samples \u001B[38;5;241m=\u001B[39m shape_into_2d(parent_samples, noise_samples)\n\u001B[1;32m--> 141\u001B[0m predictions \u001B[38;5;241m=\u001B[39m shape_into_2d(\u001B[38;5;28;43mself\u001B[39;49m\u001B[38;5;241;43m.\u001B[39;49m\u001B[43m_prediction_model\u001B[49m\u001B[38;5;241;43m.\u001B[39;49m\u001B[43mpredict\u001B[49m\u001B[43m(\u001B[49m\u001B[43mparent_samples\u001B[49m\u001B[43m)\u001B[49m)\n\u001B[0;32m    143\u001B[0m \u001B[38;5;28;01mreturn\u001B[39;00m \u001B[38;5;28mself\u001B[39m\u001B[38;5;241m.\u001B[39m_invertible_function\u001B[38;5;241m.\u001B[39mevaluate(predictions \u001B[38;5;241m+\u001B[39m noise_samples)\n",
      "File \u001B[1;32m~\\anaconda3\\lib\\site-packages\\dowhy\\gcm\\ml\\regression.py:42\u001B[0m, in \u001B[0;36mSklearnRegressionModel.predict\u001B[1;34m(self, X)\u001B[0m\n\u001B[0;32m     40\u001B[0m \u001B[38;5;28;01mdef\u001B[39;00m \u001B[38;5;21mpredict\u001B[39m(\u001B[38;5;28mself\u001B[39m, X: np\u001B[38;5;241m.\u001B[39marray) \u001B[38;5;241m-\u001B[39m\u001B[38;5;241m>\u001B[39m np\u001B[38;5;241m.\u001B[39mndarray:\n\u001B[0;32m     41\u001B[0m     \u001B[38;5;28;01mreturn\u001B[39;00m shape_into_2d(\n\u001B[1;32m---> 42\u001B[0m         \u001B[38;5;28;43mself\u001B[39;49m\u001B[38;5;241;43m.\u001B[39;49m\u001B[43m_sklearn_mdl\u001B[49m\u001B[38;5;241;43m.\u001B[39;49m\u001B[43mpredict\u001B[49m\u001B[43m(\u001B[49m\u001B[43mapply_one_hot_encoding\u001B[49m\u001B[43m(\u001B[49m\u001B[43mX\u001B[49m\u001B[43m,\u001B[49m\u001B[43m \u001B[49m\u001B[38;5;28;43mself\u001B[39;49m\u001B[38;5;241;43m.\u001B[39;49m\u001B[43m_one_hot_encoders\u001B[49m\u001B[43m)\u001B[49m\u001B[43m)\u001B[49m)\n",
      "File \u001B[1;32m~\\anaconda3\\lib\\site-packages\\sklearn\\linear_model\\_base.py:362\u001B[0m, in \u001B[0;36mLinearModel.predict\u001B[1;34m(self, X)\u001B[0m\n\u001B[0;32m    348\u001B[0m \u001B[38;5;28;01mdef\u001B[39;00m \u001B[38;5;21mpredict\u001B[39m(\u001B[38;5;28mself\u001B[39m, X):\n\u001B[0;32m    349\u001B[0m     \u001B[38;5;124;03m\"\"\"\u001B[39;00m\n\u001B[0;32m    350\u001B[0m \u001B[38;5;124;03m    Predict using the linear model.\u001B[39;00m\n\u001B[0;32m    351\u001B[0m \n\u001B[1;32m   (...)\u001B[0m\n\u001B[0;32m    360\u001B[0m \u001B[38;5;124;03m        Returns predicted values.\u001B[39;00m\n\u001B[0;32m    361\u001B[0m \u001B[38;5;124;03m    \"\"\"\u001B[39;00m\n\u001B[1;32m--> 362\u001B[0m     \u001B[38;5;28;01mreturn\u001B[39;00m \u001B[38;5;28;43mself\u001B[39;49m\u001B[38;5;241;43m.\u001B[39;49m\u001B[43m_decision_function\u001B[49m\u001B[43m(\u001B[49m\u001B[43mX\u001B[49m\u001B[43m)\u001B[49m\n",
      "File \u001B[1;32m~\\anaconda3\\lib\\site-packages\\sklearn\\linear_model\\_base.py:345\u001B[0m, in \u001B[0;36mLinearModel._decision_function\u001B[1;34m(self, X)\u001B[0m\n\u001B[0;32m    342\u001B[0m \u001B[38;5;28;01mdef\u001B[39;00m \u001B[38;5;21m_decision_function\u001B[39m(\u001B[38;5;28mself\u001B[39m, X):\n\u001B[0;32m    343\u001B[0m     check_is_fitted(\u001B[38;5;28mself\u001B[39m)\n\u001B[1;32m--> 345\u001B[0m     X \u001B[38;5;241m=\u001B[39m \u001B[38;5;28;43mself\u001B[39;49m\u001B[38;5;241;43m.\u001B[39;49m\u001B[43m_validate_data\u001B[49m\u001B[43m(\u001B[49m\u001B[43mX\u001B[49m\u001B[43m,\u001B[49m\u001B[43m \u001B[49m\u001B[43maccept_sparse\u001B[49m\u001B[38;5;241;43m=\u001B[39;49m\u001B[43m[\u001B[49m\u001B[38;5;124;43m\"\u001B[39;49m\u001B[38;5;124;43mcsr\u001B[39;49m\u001B[38;5;124;43m\"\u001B[39;49m\u001B[43m,\u001B[49m\u001B[43m \u001B[49m\u001B[38;5;124;43m\"\u001B[39;49m\u001B[38;5;124;43mcsc\u001B[39;49m\u001B[38;5;124;43m\"\u001B[39;49m\u001B[43m,\u001B[49m\u001B[43m \u001B[49m\u001B[38;5;124;43m\"\u001B[39;49m\u001B[38;5;124;43mcoo\u001B[39;49m\u001B[38;5;124;43m\"\u001B[39;49m\u001B[43m]\u001B[49m\u001B[43m,\u001B[49m\u001B[43m \u001B[49m\u001B[43mreset\u001B[49m\u001B[38;5;241;43m=\u001B[39;49m\u001B[38;5;28;43;01mFalse\u001B[39;49;00m\u001B[43m)\u001B[49m\n\u001B[0;32m    346\u001B[0m     \u001B[38;5;28;01mreturn\u001B[39;00m safe_sparse_dot(X, \u001B[38;5;28mself\u001B[39m\u001B[38;5;241m.\u001B[39mcoef_\u001B[38;5;241m.\u001B[39mT, dense_output\u001B[38;5;241m=\u001B[39m\u001B[38;5;28;01mTrue\u001B[39;00m) \u001B[38;5;241m+\u001B[39m \u001B[38;5;28mself\u001B[39m\u001B[38;5;241m.\u001B[39mintercept_\n",
      "File \u001B[1;32m~\\anaconda3\\lib\\site-packages\\sklearn\\base.py:566\u001B[0m, in \u001B[0;36mBaseEstimator._validate_data\u001B[1;34m(self, X, y, reset, validate_separately, **check_params)\u001B[0m\n\u001B[0;32m    564\u001B[0m     \u001B[38;5;28;01mraise\u001B[39;00m \u001B[38;5;167;01mValueError\u001B[39;00m(\u001B[38;5;124m\"\u001B[39m\u001B[38;5;124mValidation should be done on X, y or both.\u001B[39m\u001B[38;5;124m\"\u001B[39m)\n\u001B[0;32m    565\u001B[0m \u001B[38;5;28;01melif\u001B[39;00m \u001B[38;5;129;01mnot\u001B[39;00m no_val_X \u001B[38;5;129;01mand\u001B[39;00m no_val_y:\n\u001B[1;32m--> 566\u001B[0m     X \u001B[38;5;241m=\u001B[39m \u001B[43mcheck_array\u001B[49m\u001B[43m(\u001B[49m\u001B[43mX\u001B[49m\u001B[43m,\u001B[49m\u001B[43m \u001B[49m\u001B[38;5;241;43m*\u001B[39;49m\u001B[38;5;241;43m*\u001B[39;49m\u001B[43mcheck_params\u001B[49m\u001B[43m)\u001B[49m\n\u001B[0;32m    567\u001B[0m     out \u001B[38;5;241m=\u001B[39m X\n\u001B[0;32m    568\u001B[0m \u001B[38;5;28;01melif\u001B[39;00m no_val_X \u001B[38;5;129;01mand\u001B[39;00m \u001B[38;5;129;01mnot\u001B[39;00m no_val_y:\n",
      "File \u001B[1;32m~\\anaconda3\\lib\\site-packages\\sklearn\\utils\\validation.py:800\u001B[0m, in \u001B[0;36mcheck_array\u001B[1;34m(array, accept_sparse, accept_large_sparse, dtype, order, copy, force_all_finite, ensure_2d, allow_nd, ensure_min_samples, ensure_min_features, estimator)\u001B[0m\n\u001B[0;32m    794\u001B[0m         \u001B[38;5;28;01mraise\u001B[39;00m \u001B[38;5;167;01mValueError\u001B[39;00m(\n\u001B[0;32m    795\u001B[0m             \u001B[38;5;124m\"\u001B[39m\u001B[38;5;124mFound array with dim \u001B[39m\u001B[38;5;132;01m%d\u001B[39;00m\u001B[38;5;124m. \u001B[39m\u001B[38;5;132;01m%s\u001B[39;00m\u001B[38;5;124m expected <= 2.\u001B[39m\u001B[38;5;124m\"\u001B[39m\n\u001B[0;32m    796\u001B[0m             \u001B[38;5;241m%\u001B[39m (array\u001B[38;5;241m.\u001B[39mndim, estimator_name)\n\u001B[0;32m    797\u001B[0m         )\n\u001B[0;32m    799\u001B[0m     \u001B[38;5;28;01mif\u001B[39;00m force_all_finite:\n\u001B[1;32m--> 800\u001B[0m         \u001B[43m_assert_all_finite\u001B[49m\u001B[43m(\u001B[49m\u001B[43marray\u001B[49m\u001B[43m,\u001B[49m\u001B[43m \u001B[49m\u001B[43mallow_nan\u001B[49m\u001B[38;5;241;43m=\u001B[39;49m\u001B[43mforce_all_finite\u001B[49m\u001B[43m \u001B[49m\u001B[38;5;241;43m==\u001B[39;49m\u001B[43m \u001B[49m\u001B[38;5;124;43m\"\u001B[39;49m\u001B[38;5;124;43mallow-nan\u001B[39;49m\u001B[38;5;124;43m\"\u001B[39;49m\u001B[43m)\u001B[49m\n\u001B[0;32m    802\u001B[0m \u001B[38;5;28;01mif\u001B[39;00m ensure_min_samples \u001B[38;5;241m>\u001B[39m \u001B[38;5;241m0\u001B[39m:\n\u001B[0;32m    803\u001B[0m     n_samples \u001B[38;5;241m=\u001B[39m _num_samples(array)\n",
      "File \u001B[1;32m~\\anaconda3\\lib\\site-packages\\sklearn\\utils\\validation.py:114\u001B[0m, in \u001B[0;36m_assert_all_finite\u001B[1;34m(X, allow_nan, msg_dtype)\u001B[0m\n\u001B[0;32m    107\u001B[0m     \u001B[38;5;28;01mif\u001B[39;00m (\n\u001B[0;32m    108\u001B[0m         allow_nan\n\u001B[0;32m    109\u001B[0m         \u001B[38;5;129;01mand\u001B[39;00m np\u001B[38;5;241m.\u001B[39misinf(X)\u001B[38;5;241m.\u001B[39many()\n\u001B[0;32m    110\u001B[0m         \u001B[38;5;129;01mor\u001B[39;00m \u001B[38;5;129;01mnot\u001B[39;00m allow_nan\n\u001B[0;32m    111\u001B[0m         \u001B[38;5;129;01mand\u001B[39;00m \u001B[38;5;129;01mnot\u001B[39;00m np\u001B[38;5;241m.\u001B[39misfinite(X)\u001B[38;5;241m.\u001B[39mall()\n\u001B[0;32m    112\u001B[0m     ):\n\u001B[0;32m    113\u001B[0m         type_err \u001B[38;5;241m=\u001B[39m \u001B[38;5;124m\"\u001B[39m\u001B[38;5;124minfinity\u001B[39m\u001B[38;5;124m\"\u001B[39m \u001B[38;5;28;01mif\u001B[39;00m allow_nan \u001B[38;5;28;01melse\u001B[39;00m \u001B[38;5;124m\"\u001B[39m\u001B[38;5;124mNaN, infinity\u001B[39m\u001B[38;5;124m\"\u001B[39m\n\u001B[1;32m--> 114\u001B[0m         \u001B[38;5;28;01mraise\u001B[39;00m \u001B[38;5;167;01mValueError\u001B[39;00m(\n\u001B[0;32m    115\u001B[0m             msg_err\u001B[38;5;241m.\u001B[39mformat(\n\u001B[0;32m    116\u001B[0m                 type_err, msg_dtype \u001B[38;5;28;01mif\u001B[39;00m msg_dtype \u001B[38;5;129;01mis\u001B[39;00m \u001B[38;5;129;01mnot\u001B[39;00m \u001B[38;5;28;01mNone\u001B[39;00m \u001B[38;5;28;01melse\u001B[39;00m X\u001B[38;5;241m.\u001B[39mdtype\n\u001B[0;32m    117\u001B[0m             )\n\u001B[0;32m    118\u001B[0m         )\n\u001B[0;32m    119\u001B[0m \u001B[38;5;66;03m# for object dtype data, we only check for NaNs (GH-13254)\u001B[39;00m\n\u001B[0;32m    120\u001B[0m \u001B[38;5;28;01melif\u001B[39;00m X\u001B[38;5;241m.\u001B[39mdtype \u001B[38;5;241m==\u001B[39m np\u001B[38;5;241m.\u001B[39mdtype(\u001B[38;5;124m\"\u001B[39m\u001B[38;5;124mobject\u001B[39m\u001B[38;5;124m\"\u001B[39m) \u001B[38;5;129;01mand\u001B[39;00m \u001B[38;5;129;01mnot\u001B[39;00m allow_nan:\n",
      "\u001B[1;31mValueError\u001B[0m: Input contains NaN, infinity or a value too large for dtype('float64')."
     ]
    }
   ],
   "source": [
    "import networkx as nx\n",
    "import dowhy.gcm as gcm\n",
    "data['binary_age'] = data['Age'] > 60\n",
    "causal_model = gcm.InvertibleStructuralCausalModel(nx.DiGraph([('binary_age', 'NFOGQ'), ('YearsSinceDx', 'NFOGQ')]))\n",
    "gcm.auto.assign_causal_mechanisms(causal_model, data)\n",
    "\n",
    "gcm.util.plot(causal_model.graph)\n",
    "\n",
    "gcm.fit(causal_model, data.iloc[:-10])\n",
    "new_patients = data.iloc[-10:][data.iloc[-10:]['binary_age']==1.0]\n",
    "picked_columns = ['binary_age','YearsSinceDx','NFOGQ']\n",
    "new_patients = new_patients[picked_columns]\n",
    "counterfactual_data2 = gcm.counterfactual_samples(causal_model,\n",
    "                                                  {'binary_age': lambda x: 0.0},\n",
    "                                                  observed_data=new_patients)\n"
   ]
  },
  {
   "cell_type": "code",
   "execution_count": null,
   "metadata": {},
   "outputs": [],
   "source": [
    "import matplotlib.pyplot as plt\n",
    "\n",
    "df_plot2 = pd.DataFrame()\n",
    "df_plot2['NFOGQ'] = new_patients['NFOGQ']\n",
    "df_plot2['Counterfactual NFOGQ (age > 60)'] = counterfactual_data2['NFOGQ'].to_numpy()\n",
    "\n",
    "df_plot2.plot.bar(title=\"Counterfactual outputs\")\n",
    "plt.ylabel('NFOGQ')\n",
    "# plt.xlabel(list(new_patients.index))\n",
    "plt.legend()\n",
    "plt.show()"
   ]
  },
  {
   "cell_type": "markdown",
   "metadata": {},
   "source": [
    "## We will now try Causal Discovery"
   ]
  },
  {
   "cell_type": "code",
   "execution_count": null,
   "metadata": {},
   "outputs": [],
   "source": [
    "import networkx as nx\n",
    "import cdt\n",
    "from cdt.causality.graph import CGNN, SAM\n",
    "cdt.SETTINGS.NJOBS = 3\n",
    "obj = SAM()\n",
    "plt.figure(figsize=(15,15))\n",
    "plt.title('Causal Graph Discovery using SAM')\n",
    "# output = obj.predict(data)\n",
    "nx.draw_networkx(output, font_size=15)\n",
    "plt.show()\n",
    "\n",
    "# obj = CGNN(nruns=12)\n",
    "# plt.figure()\n",
    "# plt.title('Causal Graph discovery using CGNN')\n",
    "# output = obj.predict(data_for_discovery)\n",
    "# nx.draw_networkx(output, font_size=8)\n",
    "# plt.show()\n"
   ]
  },
  {
   "cell_type": "code",
   "execution_count": null,
   "metadata": {},
   "outputs": [],
   "source": []
  }
 ],
 "metadata": {
  "kernelspec": {
   "display_name": "Python 3 (ipykernel)",
   "language": "python",
   "name": "python3"
  },
  "language_info": {
   "codemirror_mode": {
    "name": "ipython",
    "version": 3
   },
   "file_extension": ".py",
   "mimetype": "text/x-python",
   "name": "python",
   "nbconvert_exporter": "python",
   "pygments_lexer": "ipython3",
   "version": "3.8.3"
  }
 },
 "nbformat": 4,
 "nbformat_minor": 1
}